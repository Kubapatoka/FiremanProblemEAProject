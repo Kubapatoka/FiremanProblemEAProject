{
 "cells": [
  {
   "cell_type": "code",
   "execution_count": 4,
   "metadata": {
    "vscode": {
     "languageId": "plaintext"
    }
   },
   "outputs": [
    {
     "name": "stdout",
     "output_type": "stream",
     "text": [
      "The autoreload extension is already loaded. To reload it, use:\n",
      "  %reload_ext autoreload\n"
     ]
    }
   ],
   "source": [
    "%load_ext autoreload\n",
    "%autoreload 2\n",
    "\n",
    "import sys\n",
    "import os \n",
    "    \n",
    "if not getattr(sys, \"_src_path_added\", False):\n",
    "    src_path = os.path.abspath(os.path.join(os.getcwd(), \"..\"))\n",
    "    if src_path not in sys.path:\n",
    "        sys.path.insert(0, src_path)\n",
    "    sys._src_path_added = True "
   ]
  },
  {
   "cell_type": "code",
   "execution_count": 5,
   "metadata": {
    "vscode": {
     "languageId": "plaintext"
    }
   },
   "outputs": [],
   "source": [
    "from SGA.SGA import *\n",
    "from SGA.SGAParts import *\n",
    "from SGA.SGAInstance import *\n",
    "\n",
    "from ProblemDef import FirefighterProblem\n",
    "from Displayer import Displayer"
   ]
  },
  {
   "cell_type": "code",
   "execution_count": null,
   "metadata": {
    "vscode": {
     "languageId": "plaintext"
    }
   },
   "outputs": [
    {
     "name": "stderr",
     "output_type": "stream",
     "text": [
      "/home/jakub/.local/lib/python3.10/site-packages/networkx/readwrite/json_graph/node_link.py:287: FutureWarning: \n",
      "The default value will be changed to `edges=\"edges\" in NetworkX 3.6.\n",
      "\n",
      "To make this warning go away, explicitly set the edges kwarg, e.g.:\n",
      "\n",
      "  nx.node_link_graph(data, edges=\"links\") to preserve current behavior, or\n",
      "  nx.node_link_graph(data, edges=\"edges\") for forward compatibility.\n",
      "  warnings.warn(\n"
     ]
    },
    {
     "name": "stdout",
     "output_type": "stream",
     "text": [
      "1631\n",
      "[74, 893, 1074, 1892]\n"
     ]
    }
   ],
   "source": [
    "instance = SGAInstance(\"../problems/p9.json\",\n",
    "    populationInitializer= randomVertAndPathPI,\n",
    "    populationSize = 100,\n",
    "    generationsNumber = 100,\n",
    "    parentsSelector = rankingParentsSelector,\n",
    "    crossover = basicCrossover,\n",
    "    mutationProb = 0.7,\n",
    "    mutator = neighbourMutator,\n",
    "    fixer = basicFixer,\n",
    "    evaluator = basicEvaluator)\n",
    "\n",
    "firemans =SGA(instance)\n",
    "disp = Displayer()\n",
    "instance.problem.visualize_fire_without_burned(disp, firemans, output_path=\"gif9.gif\")"
   ]
  },
  {
   "cell_type": "code",
   "execution_count": null,
   "metadata": {},
   "outputs": [],
   "source": [
    "instance._mutator = noMutator\n",
    "\n",
    "res1 = []\n",
    "N=20\n",
    "\n",
    "for i in range(N):\n",
    "    burned = instance._evaluator(fenotypeToGenotype(SGA(instance), instance.problem.graph.number_of_nodes()), instance.problem)\n",
    "    res1.append(burned)\n",
    "\n",
    "print(\"noMutator\", statistics.fmean(res1))\n",
    "\n",
    "instance._mutator = basicMutator\n",
    "\n",
    "res2 = []\n",
    "\n",
    "for i in range(N):\n",
    "    burned = instance._evaluator(fenotypeToGenotype(SGA(instance), instance.problem.graph.number_of_nodes()), instance.problem)\n",
    "    res2.append(burned)\n",
    "\n",
    "print(\"basicMutator\", statistics.fmean(res2))\n",
    "\n",
    "instance._mutator = neighbourMutator\n",
    "\n",
    "res3 = []\n",
    "\n",
    "for i in range(N):\n",
    "    burned = instance._evaluator(fenotypeToGenotype(SGA(instance), instance.problem.graph.number_of_nodes()), instance.problem)\n",
    "    res3.append(burned)\n",
    "\n",
    "print(\"neighbourMutator\", statistics.fmean(res3))\n",
    "\n",
    "instance._mutator = mixedMutator\n",
    "\n",
    "res4 = []\n",
    "\n",
    "for i in range(N):\n",
    "    burned = instance._evaluator(fenotypeToGenotype(SGA(instance), instance.problem.graph.number_of_nodes()), instance.problem)\n",
    "    res4.append(burned)\n",
    "\n",
    "print(\"mixedMutator\", statistics.fmean(res4))\n"
   ]
  },
  {
   "cell_type": "code",
   "execution_count": null,
   "metadata": {},
   "outputs": [],
   "source": [
    "print(\"noMutator\", statistics.fmean(res1), \" \" ,min(res1))\n",
    "print(\"basicMutator\", statistics.fmean(res2),\" \" ,min(res2))\n",
    "print(\"neighbourMutator\", statistics.fmean(res3),\" \" ,min(res3))\n",
    "print(\"mixedMutator\", statistics.fmean(res4),\" \" ,min(res4))"
   ]
  },
  {
   "cell_type": "code",
   "execution_count": null,
   "metadata": {},
   "outputs": [],
   "source": [
    "instance._populationInitializer = basicPI\n",
    "\n",
    "res1 = []\n",
    "N=20\n",
    "\n",
    "for i in range(N):\n",
    "    burned = instance._evaluator(fenotypeToGenotype(SGA(instance), instance.problem.graph.number_of_nodes()), instance.problem)\n",
    "    res1.append(burned)\n",
    "\n",
    "\n",
    "instance._populationInitializer = randomVertAndPathPI\n",
    "\n",
    "res2 = []\n",
    "\n",
    "for i in range(N):\n",
    "    burned = instance._evaluator(fenotypeToGenotype(SGA(instance), instance.problem.graph.number_of_nodes()), instance.problem)\n",
    "    res2.append(burned)\n",
    "\n",
    "\n",
    "instance._populationInitializer = randomVertAndDistrictPI\n",
    "\n",
    "res3 = []\n",
    "\n",
    "for i in range(N):\n",
    "    burned = instance._evaluator(fenotypeToGenotype(SGA(instance), instance.problem.graph.number_of_nodes()), instance.problem)\n",
    "    res3.append(burned)\n"
   ]
  },
  {
   "cell_type": "code",
   "execution_count": null,
   "metadata": {},
   "outputs": [],
   "source": [
    "print(\"basicPI\", statistics.fmean(res1), \" \" ,min(res1))\n",
    "print(\"randomVertAndPathPI\", statistics.fmean(res2),\" \" ,min(res2))\n",
    "print(\"randomVertAndDistrictPI\", statistics.fmean(res3),\" \" ,min(res3))\n",
    "instance._populationInitializer = basicPI"
   ]
  },
  {
   "cell_type": "code",
   "execution_count": null,
   "metadata": {},
   "outputs": [],
   "source": [
    "instance._parentsSelector = basicParentsSelector\n",
    "\n",
    "res1 = []\n",
    "N=20\n",
    "\n",
    "for i in range(N):\n",
    "    burned = instance._evaluator(fenotypeToGenotype(SGA(instance), instance.problem.graph.number_of_nodes()), instance.problem)\n",
    "    res1.append(burned)\n",
    "\n",
    "instance._parentsSelector = rankingParentsSelector\n",
    "\n",
    "res2 = []\n",
    "\n",
    "for i in range(N):\n",
    "    burned = instance._evaluator(fenotypeToGenotype(SGA(instance), instance.problem.graph.number_of_nodes()), instance.problem)\n",
    "    res2.append(burned)"
   ]
  },
  {
   "cell_type": "code",
   "execution_count": null,
   "metadata": {},
   "outputs": [],
   "source": [
    "print(\"basicParentsSelector\", statistics.fmean(res1), \" \" ,min(res1))\n",
    "print(\"rankingParentsSelector\", statistics.fmean(res2),\" \" ,min(res2))"
   ]
  },
  {
   "cell_type": "code",
   "execution_count": null,
   "metadata": {},
   "outputs": [],
   "source": []
  }
 ],
 "metadata": {
  "kernelspec": {
   "display_name": "Python 3 (ipykernel)",
   "language": "python",
   "name": "python3"
  },
  "language_info": {
   "codemirror_mode": {
    "name": "ipython",
    "version": 3
   },
   "file_extension": ".py",
   "mimetype": "text/x-python",
   "name": "python",
   "nbconvert_exporter": "python",
   "pygments_lexer": "ipython3",
   "version": "3.10.12"
  }
 },
 "nbformat": 4,
 "nbformat_minor": 4
}
