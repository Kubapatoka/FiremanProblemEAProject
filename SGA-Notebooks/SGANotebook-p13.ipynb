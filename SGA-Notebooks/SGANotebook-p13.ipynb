{
 "cells": [
  {
   "cell_type": "code",
   "execution_count": 1,
   "metadata": {
    "vscode": {
     "languageId": "plaintext"
    }
   },
   "outputs": [],
   "source": [
    "%load_ext autoreload\n",
    "%autoreload 2\n",
    "\n",
    "import sys\n",
    "import os \n",
    "    \n",
    "if not getattr(sys, \"_src_path_added\", False):\n",
    "    src_path = os.path.abspath(os.path.join(os.getcwd(), \"..\"))\n",
    "    if src_path not in sys.path:\n",
    "        sys.path.insert(0, src_path)\n",
    "    sys._src_path_added = True "
   ]
  },
  {
   "cell_type": "code",
   "execution_count": 2,
   "metadata": {
    "vscode": {
     "languageId": "plaintext"
    }
   },
   "outputs": [
    {
     "name": "stderr",
     "output_type": "stream",
     "text": [
      "/usr/lib/python3/dist-packages/scipy/__init__.py:146: UserWarning: A NumPy version >=1.17.3 and <1.25.0 is required for this version of SciPy (detected version 1.26.0\n",
      "  warnings.warn(f\"A NumPy version >={np_minversion} and <{np_maxversion}\"\n"
     ]
    }
   ],
   "source": [
    "from SGA.SGA import *\n",
    "from SGA.SGAParts import *\n",
    "from SGA.SGAInstance import *\n",
    "\n",
    "from ProblemDef import FirefighterProblem\n",
    "from Displayer import Displayer"
   ]
  },
  {
   "cell_type": "code",
   "execution_count": 3,
   "metadata": {
    "vscode": {
     "languageId": "plaintext"
    }
   },
   "outputs": [
    {
     "name": "stderr",
     "output_type": "stream",
     "text": [
      "/home/jakub/.local/lib/python3.10/site-packages/networkx/readwrite/json_graph/node_link.py:287: FutureWarning: \n",
      "The default value will be changed to `edges=\"edges\" in NetworkX 3.6.\n",
      "\n",
      "To make this warning go away, explicitly set the edges kwarg, e.g.:\n",
      "\n",
      "  nx.node_link_graph(data, edges=\"links\") to preserve current behavior, or\n",
      "  nx.node_link_graph(data, edges=\"edges\") for forward compatibility.\n",
      "  warnings.warn(\n"
     ]
    },
    {
     "ename": "NetworkXError",
     "evalue": "The node 102 is not in the graph.",
     "output_type": "error",
     "traceback": [
      "\u001b[0;31m---------------------------------------------------------------------------\u001b[0m",
      "\u001b[0;31mKeyError\u001b[0m                                  Traceback (most recent call last)",
      "File \u001b[0;32m~/.local/lib/python3.10/site-packages/networkx/classes/graph.py:1372\u001b[0m, in \u001b[0;36mGraph.neighbors\u001b[0;34m(self, n)\u001b[0m\n\u001b[1;32m   1371\u001b[0m \u001b[38;5;28;01mtry\u001b[39;00m:\n\u001b[0;32m-> 1372\u001b[0m     \u001b[38;5;28;01mreturn\u001b[39;00m \u001b[38;5;28miter\u001b[39m(\u001b[38;5;28;43mself\u001b[39;49m\u001b[38;5;241;43m.\u001b[39;49m\u001b[43m_adj\u001b[49m\u001b[43m[\u001b[49m\u001b[43mn\u001b[49m\u001b[43m]\u001b[49m)\n\u001b[1;32m   1373\u001b[0m \u001b[38;5;28;01mexcept\u001b[39;00m \u001b[38;5;167;01mKeyError\u001b[39;00m \u001b[38;5;28;01mas\u001b[39;00m err:\n",
      "\u001b[0;31mKeyError\u001b[0m: 102",
      "\nThe above exception was the direct cause of the following exception:\n",
      "\u001b[0;31mNetworkXError\u001b[0m                             Traceback (most recent call last)",
      "Cell \u001b[0;32mIn[3], line 12\u001b[0m\n\u001b[1;32m      1\u001b[0m instance \u001b[38;5;241m=\u001b[39m SGAInstance(\u001b[38;5;124m\"\u001b[39m\u001b[38;5;124m../problems/p13.json\u001b[39m\u001b[38;5;124m\"\u001b[39m,\n\u001b[1;32m      2\u001b[0m     populationInitializer\u001b[38;5;241m=\u001b[39m randomVertAndPathPI,\n\u001b[1;32m      3\u001b[0m     populationSize \u001b[38;5;241m=\u001b[39m \u001b[38;5;241m200\u001b[39m,\n\u001b[0;32m   (...)\u001b[0m\n\u001b[1;32m      9\u001b[0m     fixer \u001b[38;5;241m=\u001b[39m basicFixer,\n\u001b[1;32m     10\u001b[0m     evaluator \u001b[38;5;241m=\u001b[39m basicEvaluator)\n\u001b[0;32m---> 12\u001b[0m firemans \u001b[38;5;241m=\u001b[39m\u001b[43mSGA\u001b[49m\u001b[43m(\u001b[49m\u001b[43minstance\u001b[49m\u001b[43m)\u001b[49m\n\u001b[1;32m     13\u001b[0m disp \u001b[38;5;241m=\u001b[39m Displayer()\n\u001b[1;32m     14\u001b[0m instance\u001b[38;5;241m.\u001b[39mproblem\u001b[38;5;241m.\u001b[39mvisualize_fire_without_burned(disp, firemans, output_path\u001b[38;5;241m=\u001b[39m\u001b[38;5;124m\"\u001b[39m\u001b[38;5;124mgif13.gif\u001b[39m\u001b[38;5;124m\"\u001b[39m)\n",
      "File \u001b[0;32m~/Desktop/StudiaMagisterskie/Semestr_I/AlgEwolucyjne/Projekt/FiremanProblemEAProject/SGA/SGA.py:4\u001b[0m, in \u001b[0;36mSGA\u001b[0;34m(instance)\u001b[0m\n\u001b[1;32m      3\u001b[0m \u001b[38;5;28;01mdef\u001b[39;00m \u001b[38;5;21mSGA\u001b[39m(instance):\n\u001b[0;32m----> 4\u001b[0m     population \u001b[38;5;241m=\u001b[39m \u001b[43minstance\u001b[49m\u001b[38;5;241;43m.\u001b[39;49m\u001b[43mInitialPopulation\u001b[49m\u001b[43m(\u001b[49m\u001b[43m)\u001b[49m\n\u001b[1;32m      5\u001b[0m     \u001b[38;5;66;03m# population is a sorted list of pairs: (genotype, fitness_value)\u001b[39;00m\n\u001b[1;32m      7\u001b[0m     \u001b[38;5;28;01mwhile\u001b[39;00m \u001b[38;5;129;01mnot\u001b[39;00m instance\u001b[38;5;241m.\u001b[39mTerminationCondition():\n",
      "File \u001b[0;32m~/Desktop/StudiaMagisterskie/Semestr_I/AlgEwolucyjne/Projekt/FiremanProblemEAProject/SGA/SGAInstance.py:62\u001b[0m, in \u001b[0;36mSGAInstance.InitialPopulation\u001b[0;34m(self)\u001b[0m\n\u001b[1;32m     61\u001b[0m \u001b[38;5;28;01mdef\u001b[39;00m \u001b[38;5;21mInitialPopulation\u001b[39m(\u001b[38;5;28mself\u001b[39m):\n\u001b[0;32m---> 62\u001b[0m     new_population \u001b[38;5;241m=\u001b[39m  \u001b[38;5;28;43mself\u001b[39;49m\u001b[38;5;241;43m.\u001b[39;49m\u001b[43m_populationInitializer\u001b[49m\u001b[43m(\u001b[49m\u001b[38;5;28;43mself\u001b[39;49m\u001b[38;5;241;43m.\u001b[39;49m\u001b[43m_populationSize\u001b[49m\u001b[43m,\u001b[49m\u001b[43m \u001b[49m\u001b[38;5;28;43mself\u001b[39;49m\u001b[38;5;241;43m.\u001b[39;49m\u001b[43m_chromosomeLength\u001b[49m\u001b[43m,\u001b[49m\u001b[43m \u001b[49m\u001b[38;5;28;43mself\u001b[39;49m\u001b[38;5;241;43m.\u001b[39;49m\u001b[43mproblem\u001b[49m\u001b[43m,\u001b[49m\u001b[43m \u001b[49m\u001b[38;5;28;43mself\u001b[39;49m\u001b[38;5;241;43m.\u001b[39;49m\u001b[43m_evaluator\u001b[49m\u001b[43m)\u001b[49m\n\u001b[1;32m     63\u001b[0m     new_population\u001b[38;5;241m.\u001b[39msort(key\u001b[38;5;241m=\u001b[39m\u001b[38;5;28;01mlambda\u001b[39;00m v: v[\u001b[38;5;241m1\u001b[39m])\n\u001b[1;32m     65\u001b[0m     \u001b[38;5;66;03m# for p in new_population:\u001b[39;00m\n\u001b[1;32m     66\u001b[0m     \u001b[38;5;66;03m#     print(\"\\n\")\u001b[39;00m\n\u001b[1;32m     67\u001b[0m     \u001b[38;5;66;03m#     for f in range(len(p[0])):\u001b[39;00m\n\u001b[1;32m     68\u001b[0m     \u001b[38;5;66;03m#         if p[0][f]: print(\" \", f)\u001b[39;00m\n",
      "File \u001b[0;32m~/Desktop/StudiaMagisterskie/Semestr_I/AlgEwolucyjne/Projekt/FiremanProblemEAProject/SGA/SGAParts.py:39\u001b[0m, in \u001b[0;36mrandomVertAndPathPI\u001b[0;34m(populationSize, chromosomeSize, problem, evaluator)\u001b[0m\n\u001b[1;32m     37\u001b[0m fireman\u001b[38;5;241m.\u001b[39mappend(start_vert)\n\u001b[1;32m     38\u001b[0m \u001b[38;5;28;01mwhile\u001b[39;00m \u001b[38;5;28mlen\u001b[39m(fireman) \u001b[38;5;241m<\u001b[39m N:\n\u001b[0;32m---> 39\u001b[0m     neigh \u001b[38;5;241m=\u001b[39m \u001b[38;5;28mlist\u001b[39m(\u001b[38;5;28mfilter\u001b[39m(\u001b[38;5;28;01mlambda\u001b[39;00m x: x \u001b[38;5;129;01mnot\u001b[39;00m \u001b[38;5;129;01min\u001b[39;00m fireman \u001b[38;5;129;01mand\u001b[39;00m x \u001b[38;5;129;01mnot\u001b[39;00m \u001b[38;5;129;01min\u001b[39;00m problem\u001b[38;5;241m.\u001b[39mfire_starts, \u001b[43mproblem\u001b[49m\u001b[38;5;241;43m.\u001b[39;49m\u001b[43mgraph\u001b[49m\u001b[38;5;241;43m.\u001b[39;49m\u001b[43mneighbors\u001b[49m\u001b[43m(\u001b[49m\u001b[43mfireman\u001b[49m\u001b[43m[\u001b[49m\u001b[38;5;241;43m-\u001b[39;49m\u001b[38;5;241;43m1\u001b[39;49m\u001b[43m]\u001b[49m\u001b[43m)\u001b[49m))\n\u001b[1;32m     40\u001b[0m     \u001b[38;5;28;01mif\u001b[39;00m \u001b[38;5;28mlen\u001b[39m(neigh) \u001b[38;5;241m==\u001b[39m \u001b[38;5;241m0\u001b[39m: \u001b[38;5;28;01mbreak\u001b[39;00m\n\u001b[1;32m     41\u001b[0m     fireman\u001b[38;5;241m.\u001b[39mappend(neigh[random\u001b[38;5;241m.\u001b[39mrandint(\u001b[38;5;241m0\u001b[39m, \u001b[38;5;28mlen\u001b[39m(neigh)\u001b[38;5;241m-\u001b[39m\u001b[38;5;241m1\u001b[39m)])\n",
      "File \u001b[0;32m~/.local/lib/python3.10/site-packages/networkx/classes/graph.py:1374\u001b[0m, in \u001b[0;36mGraph.neighbors\u001b[0;34m(self, n)\u001b[0m\n\u001b[1;32m   1372\u001b[0m     \u001b[38;5;28;01mreturn\u001b[39;00m \u001b[38;5;28miter\u001b[39m(\u001b[38;5;28mself\u001b[39m\u001b[38;5;241m.\u001b[39m_adj[n])\n\u001b[1;32m   1373\u001b[0m \u001b[38;5;28;01mexcept\u001b[39;00m \u001b[38;5;167;01mKeyError\u001b[39;00m \u001b[38;5;28;01mas\u001b[39;00m err:\n\u001b[0;32m-> 1374\u001b[0m     \u001b[38;5;28;01mraise\u001b[39;00m NetworkXError(\u001b[38;5;124mf\u001b[39m\u001b[38;5;124m\"\u001b[39m\u001b[38;5;124mThe node \u001b[39m\u001b[38;5;132;01m{\u001b[39;00mn\u001b[38;5;132;01m}\u001b[39;00m\u001b[38;5;124m is not in the graph.\u001b[39m\u001b[38;5;124m\"\u001b[39m) \u001b[38;5;28;01mfrom\u001b[39;00m \u001b[38;5;21;01merr\u001b[39;00m\n",
      "\u001b[0;31mNetworkXError\u001b[0m: The node 102 is not in the graph."
     ]
    }
   ],
   "source": [
    "instance = SGAInstance(\"../problems/p13.json\",\n",
    "    populationInitializer= randomVertAndPathPI,\n",
    "    populationSize = 200,\n",
    "    generationsNumber = 100,\n",
    "    parentsSelector = rankingParentsSelector,\n",
    "    crossover = basicCrossover,\n",
    "    mutationProb = 0.7,\n",
    "    mutator = neighbourMutator,\n",
    "    fixer = basicFixer,\n",
    "    evaluator = basicEvaluator)\n",
    "\n",
    "firemans =SGA(instance)\n",
    "disp = Displayer()\n",
    "instance.problem.visualize_fire_without_burned(disp, firemans, output_path=\"gif13.gif\")"
   ]
  },
  {
   "cell_type": "code",
   "execution_count": null,
   "metadata": {},
   "outputs": [],
   "source": [
    "instance._mutator = noMutator\n",
    "\n",
    "res1 = []\n",
    "N=20\n",
    "\n",
    "for i in range(N):\n",
    "    burned = instance._evaluator(fenotypeToGenotype(SGA(instance), instance.problem.graph.number_of_nodes()), instance.problem)\n",
    "    res1.append(burned)\n",
    "\n",
    "print(\"noMutator\", statistics.fmean(res1))\n",
    "\n",
    "instance._mutator = basicMutator\n",
    "\n",
    "res2 = []\n",
    "\n",
    "for i in range(N):\n",
    "    burned = instance._evaluator(fenotypeToGenotype(SGA(instance), instance.problem.graph.number_of_nodes()), instance.problem)\n",
    "    res2.append(burned)\n",
    "\n",
    "print(\"basicMutator\", statistics.fmean(res2))\n",
    "\n",
    "instance._mutator = neighbourMutator\n",
    "\n",
    "res3 = []\n",
    "\n",
    "for i in range(N):\n",
    "    burned = instance._evaluator(fenotypeToGenotype(SGA(instance), instance.problem.graph.number_of_nodes()), instance.problem)\n",
    "    res3.append(burned)\n",
    "\n",
    "print(\"neighbourMutator\", statistics.fmean(res3))\n",
    "\n",
    "instance._mutator = mixedMutator\n",
    "\n",
    "res4 = []\n",
    "\n",
    "for i in range(N):\n",
    "    burned = instance._evaluator(fenotypeToGenotype(SGA(instance), instance.problem.graph.number_of_nodes()), instance.problem)\n",
    "    res4.append(burned)\n",
    "\n",
    "print(\"mixedMutator\", statistics.fmean(res4))\n"
   ]
  },
  {
   "cell_type": "code",
   "execution_count": null,
   "metadata": {},
   "outputs": [],
   "source": [
    "print(\"noMutator\", statistics.fmean(res1), \" \" ,min(res1))\n",
    "print(\"basicMutator\", statistics.fmean(res2),\" \" ,min(res2))\n",
    "print(\"neighbourMutator\", statistics.fmean(res3),\" \" ,min(res3))\n",
    "print(\"mixedMutator\", statistics.fmean(res4),\" \" ,min(res4))"
   ]
  },
  {
   "cell_type": "code",
   "execution_count": null,
   "metadata": {},
   "outputs": [],
   "source": [
    "instance._populationInitializer = basicPI\n",
    "\n",
    "res1 = []\n",
    "N=20\n",
    "\n",
    "for i in range(N):\n",
    "    burned = instance._evaluator(fenotypeToGenotype(SGA(instance), instance.problem.graph.number_of_nodes()), instance.problem)\n",
    "    res1.append(burned)\n",
    "\n",
    "\n",
    "instance._populationInitializer = randomVertAndPathPI\n",
    "\n",
    "res2 = []\n",
    "\n",
    "for i in range(N):\n",
    "    burned = instance._evaluator(fenotypeToGenotype(SGA(instance), instance.problem.graph.number_of_nodes()), instance.problem)\n",
    "    res2.append(burned)\n",
    "\n",
    "\n",
    "instance._populationInitializer = randomVertAndDistrictPI\n",
    "\n",
    "res3 = []\n",
    "\n",
    "for i in range(N):\n",
    "    burned = instance._evaluator(fenotypeToGenotype(SGA(instance), instance.problem.graph.number_of_nodes()), instance.problem)\n",
    "    res3.append(burned)\n"
   ]
  },
  {
   "cell_type": "code",
   "execution_count": null,
   "metadata": {},
   "outputs": [],
   "source": [
    "print(\"basicPI\", statistics.fmean(res1), \" \" ,min(res1))\n",
    "print(\"randomVertAndPathPI\", statistics.fmean(res2),\" \" ,min(res2))\n",
    "print(\"randomVertAndDistrictPI\", statistics.fmean(res3),\" \" ,min(res3))\n",
    "instance._populationInitializer = basicPI"
   ]
  },
  {
   "cell_type": "code",
   "execution_count": null,
   "metadata": {},
   "outputs": [],
   "source": [
    "instance._parentsSelector = basicParentsSelector\n",
    "\n",
    "res1 = []\n",
    "N=20\n",
    "\n",
    "for i in range(N):\n",
    "    burned = instance._evaluator(fenotypeToGenotype(SGA(instance), instance.problem.graph.number_of_nodes()), instance.problem)\n",
    "    res1.append(burned)\n",
    "\n",
    "instance._parentsSelector = rankingParentsSelector\n",
    "\n",
    "res2 = []\n",
    "\n",
    "for i in range(N):\n",
    "    burned = instance._evaluator(fenotypeToGenotype(SGA(instance), instance.problem.graph.number_of_nodes()), instance.problem)\n",
    "    res2.append(burned)"
   ]
  },
  {
   "cell_type": "code",
   "execution_count": null,
   "metadata": {},
   "outputs": [],
   "source": [
    "print(\"basicParentsSelector\", statistics.fmean(res1), \" \" ,min(res1))\n",
    "print(\"rankingParentsSelector\", statistics.fmean(res2),\" \" ,min(res2))"
   ]
  },
  {
   "cell_type": "code",
   "execution_count": null,
   "metadata": {},
   "outputs": [],
   "source": []
  }
 ],
 "metadata": {
  "kernelspec": {
   "display_name": "Python 3 (ipykernel)",
   "language": "python",
   "name": "python3"
  },
  "language_info": {
   "codemirror_mode": {
    "name": "ipython",
    "version": 3
   },
   "file_extension": ".py",
   "mimetype": "text/x-python",
   "name": "python",
   "nbconvert_exporter": "python",
   "pygments_lexer": "ipython3",
   "version": "3.10.12"
  }
 },
 "nbformat": 4,
 "nbformat_minor": 4
}
