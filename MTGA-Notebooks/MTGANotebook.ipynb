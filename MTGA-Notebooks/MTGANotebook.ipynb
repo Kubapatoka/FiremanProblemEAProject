{
 "cells": [
  {
   "cell_type": "code",
   "execution_count": 3,
   "id": "755bafaa",
   "metadata": {},
   "outputs": [
    {
     "name": "stdout",
     "output_type": "stream",
     "text": [
      "The autoreload extension is already loaded. To reload it, use:\n",
      "  %reload_ext autoreload\n"
     ]
    }
   ],
   "source": [
    "%load_ext autoreload\n",
    "%autoreload 2\n",
    "\n",
    "import sys\n",
    "import os\n",
    "\n",
    "if not getattr(sys, \"_src_path_added\", False):\n",
    "    src_path = os.path.abspath(os.path.join(os.getcwd(), \"..\"))\n",
    "    if src_path not in sys.path:\n",
    "        sys.path.insert(0, src_path)\n",
    "    sys._src_path_added = True "
   ]
  },
  {
   "cell_type": "code",
   "execution_count": 4,
   "id": "2b2368f9",
   "metadata": {},
   "outputs": [],
   "source": [
    "from MTGA.MTGA import *\n",
    "\n",
    "from MTGA.MTGAInstance import Instance\n",
    "import MTGA.Generators as Generators\n",
    "import MTGA.Mutators as Mutators\n",
    "import MTGA.WeightGenerators as WeightGenerators\n",
    "import Fixers as Fixers\n",
    "import Evaluators as Evaluators\n",
    "\n",
    "from MTGA.GeneVisualizer import GeneEvolutionRenderer\n",
    "\n",
    "from ProblemDef import FirefighterProblem\n",
    "from Utils import *\n"
   ]
  },
  {
   "cell_type": "markdown",
   "id": "96962482",
   "metadata": {},
   "source": [
    "## Main Instance"
   ]
  },
  {
   "cell_type": "code",
   "execution_count": null,
   "id": "183fa6c8",
   "metadata": {},
   "outputs": [],
   "source": [
    "instance = Instance(\"problems/p1.json\",\n",
    "    evaluator=Evaluators.CummulativeEvaluator(),\n",
    "    mutator=Mutators.WalkMutator(),\n",
    "    generator=Generators.Generator(),\n",
    "    fixer=Fixers.ChoiceFixer(),\n",
    "    weight_generator=WeightGenerators.SoftmaxWeights())"
   ]
  },
  {
   "cell_type": "code",
   "execution_count": null,
   "id": "256ffb35",
   "metadata": {},
   "outputs": [],
   "source": [
    "data = optimize_and_collect(instance, number_of_iterations=20)"
   ]
  },
  {
   "cell_type": "code",
   "execution_count": null,
   "id": "8cd759aa",
   "metadata": {},
   "outputs": [],
   "source": [
    "vis = GeneEvolutionRenderer(independent_ylim=False)\n",
    "vis.visualize(data)\n",
    "# vis.visualize(data, \"output/p1_evolution_softmax_lim1.gif\")"
   ]
  },
  {
   "cell_type": "code",
   "execution_count": null,
   "id": "1cb131f2",
   "metadata": {},
   "outputs": [],
   "source": [
    "instance.solutions"
   ]
  },
  {
   "cell_type": "code",
   "execution_count": null,
   "id": "8384ff0a",
   "metadata": {},
   "outputs": [],
   "source": [
    "def check_range(r, correction_function):\n",
    "    output = []\n",
    "    for steepness in r:\n",
    "        config = {\n",
    "            'correction_function': correction_function,\n",
    "            'correction_sigmoid_steepness': steepness,\n",
    "            'number_of_iterations': 5\n",
    "        }\n",
    "            \n",
    "        \n",
    "        instance = Instance(\"problems/p1.json\",\n",
    "            evaluator=Evaluators.CummulativeEvaluator(),\n",
    "            mutator=Mutators.WalkMutator(),\n",
    "            generator=Generators.Generator(),\n",
    "            fixer=Fixers.ChoiceFixer(),\n",
    "            weight_generator=WeightGenerators.SoftmaxWeights())\n",
    "\n",
    "        output_name = f\"output/p1_evolution_testing_steepness.{steepness}.gif\"\n",
    "\n",
    "        data = optimize_and_collect(instance, **config)\n",
    "        vis = GeneEvolutionRenderer(independent_ylim=False)\n",
    "        output.append(vis.visualize(data))"
   ]
  },
  {
   "cell_type": "code",
   "execution_count": null,
   "id": "870eacce",
   "metadata": {
    "scrolled": true
   },
   "outputs": [],
   "source": [
    "# output = check_range([16, 32, 64, 128, 256], \"sigmoid\")"
   ]
  },
  {
   "cell_type": "code",
   "execution_count": null,
   "id": "aff0f147",
   "metadata": {},
   "outputs": [],
   "source": [
    "def render(steepness):\n",
    "    instance = Instance(\"problems/p1.json\",\n",
    "        evaluator=Evaluators.CummulativeEvaluator(),\n",
    "        mutator=Mutators.WalkMutator(),\n",
    "        generator=Generators.Generator(),\n",
    "        fixer=Fixers.ChoiceFixer(),\n",
    "        weight_generator=WeightGenerators.SoftmaxWeights())\n",
    "    \n",
    "    data = optimize_and_collect(instance, number_of_iterations=5, print_updates=False, correction_function='smooth_clip')\n",
    "    vis = GeneEvolutionRenderer(independent_ylim=False)\n",
    "    return vis.visualize(data)"
   ]
  },
  {
   "cell_type": "code",
   "execution_count": null,
   "id": "a96387db",
   "metadata": {},
   "outputs": [],
   "source": [
    "# midpoint=mean, small steepness\n",
    "# render(0.001)"
   ]
  },
  {
   "cell_type": "code",
   "execution_count": null,
   "id": "a7a7b34e",
   "metadata": {},
   "outputs": [],
   "source": [
    "Utils.smooth_clip(4.1)"
   ]
  },
  {
   "cell_type": "code",
   "execution_count": null,
   "id": "f98e7ed9",
   "metadata": {},
   "outputs": [],
   "source": []
  },
  {
   "cell_type": "code",
   "execution_count": null,
   "id": "95b11e61",
   "metadata": {},
   "outputs": [],
   "source": [
    "mtga = MTGA(instance)\n",
    "current_genes = mtga.initialize_genes()\n",
    "mtga.generate_population(current_genes)"
   ]
  },
  {
   "cell_type": "code",
   "execution_count": null,
   "id": "5e05a126",
   "metadata": {},
   "outputs": [],
   "source": [
    "import networkx as nx\n",
    "import matplotlib.pyplot as plt\n",
    "\n",
    "# Define the edges layer by layer\n",
    "edges = [\n",
    "    # Bottom layer\n",
    "    (0, 1), (1, 2),\n",
    "    # Connections between bottom and second layers\n",
    "    (0, 3), (0, 4), (1, 4), (1, 5), (2, 5), (2, 6),\n",
    "    # Second layer\n",
    "    (3, 4), (4, 5), (5, 6),\n",
    "    # Connections between second and third layers\n",
    "    (3, 7), (3, 8), (4, 8), (4, 9), (5, 9), (5, 10), (6, 10), (6, 11),\n",
    "    # Third layer\n",
    "    (7, 8), (8, 9), (9, 10), (10, 11),\n",
    "    # Connections between third and fourth layers\n",
    "    (7, 12), (9, 14), (11, 16), \n",
    "    # Fourth layer\n",
    "    (12, 13), (13, 14), (14, 15), (15, 16),\n",
    "    # Connections between fourth and fifth layers\n",
    "    (12, 17), (13, 17), (13, 18), (14, 18), (14, 19), (15, 19), (15, 20), (16, 20),\n",
    "    # Fifth layer\n",
    "    (17, 18), (18, 19), (19, 20),\n",
    "    # Connections between fifth and top layer\n",
    "    (17, 21), (18, 21), (18, 22), (19, 22), (19, 23), (20, 23),\n",
    "    # Top layer\n",
    "    (21, 22), (22, 23),\n",
    "]\n",
    "\n",
    "# Create the undirected graph\n",
    "G = nx.Graph()\n",
    "G.add_edges_from(edges)\n",
    "\n",
    "# Draw the graph\n",
    "# pos = nx.spring_layout(G)  # Use spring layout for better visualization\n",
    "nx.draw(G, pos, with_labels=True, node_size=700, node_color=\"lightblue\", font_size=10, font_weight=\"bold\", edge_color=\"gray\")\n",
    "plt.title(\"Graph from Image\")\n",
    "plt.show()\n"
   ]
  },
  {
   "cell_type": "code",
   "execution_count": 6,
   "id": "e5131bcf-29c3-4231-a2c4-534e35bd31ec",
   "metadata": {},
   "outputs": [
    {
     "name": "stdout",
     "output_type": "stream",
     "text": [
      "[6 7 5 3 8 9 0 1 4 2]\n"
     ]
    },
    {
     "data": {
      "text/plain": [
       "array([6, 5, 8, 9])"
      ]
     },
     "execution_count": 6,
     "metadata": {},
     "output_type": "execute_result"
    }
   ],
   "source": [
    "from Evaluators import IncrementalCummulativeEvaluator\n",
    "import numpy as np\n",
    "\n",
    "perm = np.random.permutation(10)\n",
    "print(perm)\n",
    "\n",
    "e = IncrementalCummulativeEvaluator()\n",
    "e.pick_k(perm, 4, set([perm[1], perm[3]]))\n"
   ]
  },
  {
   "cell_type": "code",
   "execution_count": null,
   "id": "8e7f279c-0ed5-493d-8816-b12c6612a232",
   "metadata": {},
   "outputs": [],
   "source": []
  }
 ],
 "metadata": {
  "kernelspec": {
   "display_name": "Python 3 (ipykernel)",
   "language": "python",
   "name": "python3"
  },
  "language_info": {
   "codemirror_mode": {
    "name": "ipython",
    "version": 3
   },
   "file_extension": ".py",
   "mimetype": "text/x-python",
   "name": "python",
   "nbconvert_exporter": "python",
   "pygments_lexer": "ipython3",
   "version": "3.12.2"
  }
 },
 "nbformat": 4,
 "nbformat_minor": 5
}
