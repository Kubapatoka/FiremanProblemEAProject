{
 "cells": [
  {
   "cell_type": "code",
   "execution_count": 1,
   "metadata": {
    "vscode": {
     "languageId": "plaintext"
    }
   },
   "outputs": [],
   "source": [
    "%load_ext autoreload\n",
    "%autoreload 2\n",
    "\n",
    "import sys\n",
    "import os \n",
    "    \n",
    "if not getattr(sys, \"_src_path_added\", False):\n",
    "    src_path = os.path.abspath(os.path.join(os.getcwd(), \"..\"))\n",
    "    if src_path not in sys.path:\n",
    "        sys.path.insert(0, src_path)\n",
    "    sys._src_path_added = True "
   ]
  },
  {
   "cell_type": "code",
   "execution_count": 2,
   "metadata": {
    "vscode": {
     "languageId": "plaintext"
    }
   },
   "outputs": [
    {
     "name": "stderr",
     "output_type": "stream",
     "text": [
      "/usr/lib/python3/dist-packages/scipy/__init__.py:146: UserWarning: A NumPy version >=1.17.3 and <1.25.0 is required for this version of SciPy (detected version 1.26.0\n",
      "  warnings.warn(f\"A NumPy version >={np_minversion} and <{np_maxversion}\"\n"
     ]
    }
   ],
   "source": [
    "from SGA.SGA import *\n",
    "from SGA.SGAParts import *\n",
    "from SGA.SGAInstance import *\n",
    "\n",
    "from ProblemDef import FirefighterProblem\n",
    "from Displayer import Displayer"
   ]
  },
  {
   "cell_type": "code",
   "execution_count": 3,
   "metadata": {
    "vscode": {
     "languageId": "plaintext"
    }
   },
   "outputs": [
    {
     "name": "stderr",
     "output_type": "stream",
     "text": [
      "/home/jakub/.local/lib/python3.10/site-packages/networkx/readwrite/json_graph/node_link.py:287: FutureWarning: \n",
      "The default value will be changed to `edges=\"edges\" in NetworkX 3.6.\n",
      "\n",
      "To make this warning go away, explicitly set the edges kwarg, e.g.:\n",
      "\n",
      "  nx.node_link_graph(data, edges=\"links\") to preserve current behavior, or\n",
      "  nx.node_link_graph(data, edges=\"edges\") for forward compatibility.\n",
      "  warnings.warn(\n"
     ]
    }
   ],
   "source": [
    "instance = SGAInstance(\"../problems/p11.json\",\n",
    "    populationInitializer= randomVertAndPathPI,\n",
    "    populationSize = 20,\n",
    "    generationsNumber = 100,\n",
    "    parentsSelector = rankingParentsSelector,\n",
    "    crossover = basicCrossover,\n",
    "    mutationProb = 0.7,\n",
    "    mutator = neighbourMutator,\n",
    "    fixer = basicFixer,\n",
    "    evaluator = basicEvaluator)\n",
    "\n",
    "#firemans =SGA(instance)\n",
    "#disp = Displayer()\n",
    "#instance.problem.visualize_fire_without_burned(disp, firemans, output_path=\"gif11.gif\")"
   ]
  },
  {
   "cell_type": "code",
   "execution_count": 4,
   "metadata": {},
   "outputs": [
    {
     "ename": "KeyboardInterrupt",
     "evalue": "",
     "output_type": "error",
     "traceback": [
      "\u001b[0;31m---------------------------------------------------------------------------\u001b[0m",
      "\u001b[0;31mKeyboardInterrupt\u001b[0m                         Traceback (most recent call last)",
      "Cell \u001b[0;32mIn[4], line 7\u001b[0m\n\u001b[1;32m      4\u001b[0m N\u001b[38;5;241m=\u001b[39m\u001b[38;5;241m20\u001b[39m\n\u001b[1;32m      6\u001b[0m \u001b[38;5;28;01mfor\u001b[39;00m i \u001b[38;5;129;01min\u001b[39;00m \u001b[38;5;28mrange\u001b[39m(N):\n\u001b[0;32m----> 7\u001b[0m     burned \u001b[38;5;241m=\u001b[39m instance\u001b[38;5;241m.\u001b[39m_evaluator(fenotypeToGenotype(\u001b[43mSGA\u001b[49m\u001b[43m(\u001b[49m\u001b[43minstance\u001b[49m\u001b[43m)\u001b[49m, instance\u001b[38;5;241m.\u001b[39mproblem\u001b[38;5;241m.\u001b[39mgraph\u001b[38;5;241m.\u001b[39mnumber_of_nodes()), instance\u001b[38;5;241m.\u001b[39mproblem)\n\u001b[1;32m      8\u001b[0m     res1\u001b[38;5;241m.\u001b[39mappend(burned)\n\u001b[1;32m     10\u001b[0m \u001b[38;5;28mprint\u001b[39m(\u001b[38;5;124m\"\u001b[39m\u001b[38;5;124mnoMutator\u001b[39m\u001b[38;5;124m\"\u001b[39m, statistics\u001b[38;5;241m.\u001b[39mfmean(res1))\n",
      "File \u001b[0;32m~/Desktop/StudiaMagisterskie/Semestr_I/AlgEwolucyjne/Projekt/FiremanProblemEAProject/SGA/SGA.py:4\u001b[0m, in \u001b[0;36mSGA\u001b[0;34m(instance)\u001b[0m\n\u001b[1;32m      3\u001b[0m \u001b[38;5;28;01mdef\u001b[39;00m \u001b[38;5;21mSGA\u001b[39m(instance):\n\u001b[0;32m----> 4\u001b[0m     population \u001b[38;5;241m=\u001b[39m \u001b[43minstance\u001b[49m\u001b[38;5;241;43m.\u001b[39;49m\u001b[43mInitialPopulation\u001b[49m\u001b[43m(\u001b[49m\u001b[43m)\u001b[49m\n\u001b[1;32m      5\u001b[0m     \u001b[38;5;66;03m# population is a sorted list of pairs: (genotype, fitness_value)\u001b[39;00m\n\u001b[1;32m      7\u001b[0m     \u001b[38;5;28;01mwhile\u001b[39;00m \u001b[38;5;129;01mnot\u001b[39;00m instance\u001b[38;5;241m.\u001b[39mTerminationCondition():\n",
      "File \u001b[0;32m~/Desktop/StudiaMagisterskie/Semestr_I/AlgEwolucyjne/Projekt/FiremanProblemEAProject/SGA/SGAInstance.py:62\u001b[0m, in \u001b[0;36mSGAInstance.InitialPopulation\u001b[0;34m(self)\u001b[0m\n\u001b[1;32m     61\u001b[0m \u001b[38;5;28;01mdef\u001b[39;00m \u001b[38;5;21mInitialPopulation\u001b[39m(\u001b[38;5;28mself\u001b[39m):\n\u001b[0;32m---> 62\u001b[0m     new_population \u001b[38;5;241m=\u001b[39m  \u001b[38;5;28;43mself\u001b[39;49m\u001b[38;5;241;43m.\u001b[39;49m\u001b[43m_populationInitializer\u001b[49m\u001b[43m(\u001b[49m\u001b[38;5;28;43mself\u001b[39;49m\u001b[38;5;241;43m.\u001b[39;49m\u001b[43m_populationSize\u001b[49m\u001b[43m,\u001b[49m\u001b[43m \u001b[49m\u001b[38;5;28;43mself\u001b[39;49m\u001b[38;5;241;43m.\u001b[39;49m\u001b[43m_chromosomeLength\u001b[49m\u001b[43m,\u001b[49m\u001b[43m \u001b[49m\u001b[38;5;28;43mself\u001b[39;49m\u001b[38;5;241;43m.\u001b[39;49m\u001b[43mproblem\u001b[49m\u001b[43m,\u001b[49m\u001b[43m \u001b[49m\u001b[38;5;28;43mself\u001b[39;49m\u001b[38;5;241;43m.\u001b[39;49m\u001b[43m_evaluator\u001b[49m\u001b[43m)\u001b[49m\n\u001b[1;32m     63\u001b[0m     new_population\u001b[38;5;241m.\u001b[39msort(key\u001b[38;5;241m=\u001b[39m\u001b[38;5;28;01mlambda\u001b[39;00m v: v[\u001b[38;5;241m1\u001b[39m])\n\u001b[1;32m     65\u001b[0m     \u001b[38;5;66;03m# for p in new_population:\u001b[39;00m\n\u001b[1;32m     66\u001b[0m     \u001b[38;5;66;03m#     print(\"\\n\")\u001b[39;00m\n\u001b[1;32m     67\u001b[0m     \u001b[38;5;66;03m#     for f in range(len(p[0])):\u001b[39;00m\n\u001b[1;32m     68\u001b[0m     \u001b[38;5;66;03m#         if p[0][f]: print(\" \", f)\u001b[39;00m\n",
      "File \u001b[0;32m~/Desktop/StudiaMagisterskie/Semestr_I/AlgEwolucyjne/Projekt/FiremanProblemEAProject/SGA/SGAParts.py:44\u001b[0m, in \u001b[0;36mrandomVertAndPathPI\u001b[0;34m(populationSize, chromosomeSize, problem, evaluator)\u001b[0m\n\u001b[1;32m     41\u001b[0m             fireman\u001b[38;5;241m.\u001b[39mappend(neigh[random\u001b[38;5;241m.\u001b[39mrandint(\u001b[38;5;241m0\u001b[39m, \u001b[38;5;28mlen\u001b[39m(neigh)\u001b[38;5;241m-\u001b[39m\u001b[38;5;241m1\u001b[39m)])\n\u001b[1;32m     43\u001b[0m     candidate \u001b[38;5;241m=\u001b[39m fenotypeToGenotype(fireman, chromosomeSize)\n\u001b[0;32m---> 44\u001b[0m     newPopulation\u001b[38;5;241m.\u001b[39mappend(\u001b[38;5;28mtuple\u001b[39m([candidate, \u001b[43mevaluator\u001b[49m\u001b[43m(\u001b[49m\u001b[43mcandidate\u001b[49m\u001b[43m,\u001b[49m\u001b[43m \u001b[49m\u001b[43mproblem\u001b[49m\u001b[43m)\u001b[49m]))\n\u001b[1;32m     45\u001b[0m \u001b[38;5;28;01mreturn\u001b[39;00m newPopulation\n",
      "File \u001b[0;32m~/Desktop/StudiaMagisterskie/Semestr_I/AlgEwolucyjne/Projekt/FiremanProblemEAProject/SGA/SGAParts.py:215\u001b[0m, in \u001b[0;36mbasicEvaluator\u001b[0;34m(genotype, problem)\u001b[0m\n\u001b[1;32m    214\u001b[0m \u001b[38;5;28;01mdef\u001b[39;00m \u001b[38;5;21mbasicEvaluator\u001b[39m(genotype :\u001b[38;5;28mlist\u001b[39m[\u001b[38;5;28mbool\u001b[39m], problem : FirefighterProblem):\n\u001b[0;32m--> 215\u001b[0m     \u001b[38;5;28;01mreturn\u001b[39;00m \u001b[43mproblem\u001b[49m\u001b[38;5;241;43m.\u001b[39;49m\u001b[43mcount_burned_verts\u001b[49m\u001b[43m(\u001b[49m\u001b[43mgenotypeToFenotype\u001b[49m\u001b[43m(\u001b[49m\u001b[43mgenotype\u001b[49m\u001b[43m)\u001b[49m\u001b[43m)\u001b[49m\n",
      "File \u001b[0;32m~/Desktop/StudiaMagisterskie/Semestr_I/AlgEwolucyjne/Projekt/FiremanProblemEAProject/ProblemDef.py:60\u001b[0m, in \u001b[0;36mFirefighterProblem.count_burned_verts\u001b[0;34m(self, fireman)\u001b[0m\n\u001b[1;32m     58\u001b[0m     neighbours \u001b[38;5;241m=\u001b[39m \u001b[38;5;28mself\u001b[39m\u001b[38;5;241m.\u001b[39mgraph\u001b[38;5;241m.\u001b[39mneighbors(first_elem)\n\u001b[1;32m     59\u001b[0m     \u001b[38;5;28;01mfor\u001b[39;00m n \u001b[38;5;129;01min\u001b[39;00m neighbours:\n\u001b[0;32m---> 60\u001b[0m         \u001b[38;5;28;01mif\u001b[39;00m (n \u001b[38;5;129;01mnot\u001b[39;00m \u001b[38;5;129;01min\u001b[39;00m queue) \u001b[38;5;129;01mand\u001b[39;00m (\u001b[38;5;129;01mnot\u001b[39;00m burned[n]) \u001b[38;5;129;01mand\u001b[39;00m (n \u001b[38;5;129;01mnot\u001b[39;00m \u001b[38;5;129;01min\u001b[39;00m fireman):\n\u001b[1;32m     61\u001b[0m             \u001b[38;5;66;03m#print(\"add to queue \", n)\u001b[39;00m\n\u001b[1;32m     62\u001b[0m             queue\u001b[38;5;241m.\u001b[39mappend(n)\n\u001b[1;32m     64\u001b[0m burned_number \u001b[38;5;241m=\u001b[39m \u001b[38;5;241m0\u001b[39m\n",
      "\u001b[0;31mKeyboardInterrupt\u001b[0m: "
     ]
    }
   ],
   "source": [
    "instance._mutator = noMutator\n",
    "\n",
    "res1 = []\n",
    "N=20\n",
    "\n",
    "for i in range(N):\n",
    "    burned = instance._evaluator(fenotypeToGenotype(SGA(instance), instance.problem.graph.number_of_nodes()), instance.problem)\n",
    "    res1.append(burned)\n",
    "\n",
    "print(\"noMutator\", statistics.fmean(res1))\n",
    "\n",
    "instance._mutator = basicMutator\n",
    "\n",
    "res2 = []\n",
    "\n",
    "for i in range(N):\n",
    "    burned = instance._evaluator(fenotypeToGenotype(SGA(instance), instance.problem.graph.number_of_nodes()), instance.problem)\n",
    "    res2.append(burned)\n",
    "\n",
    "print(\"basicMutator\", statistics.fmean(res2))\n",
    "\n",
    "instance._mutator = neighbourMutator\n",
    "\n",
    "res3 = []\n",
    "\n",
    "for i in range(N):\n",
    "    burned = instance._evaluator(fenotypeToGenotype(SGA(instance), instance.problem.graph.number_of_nodes()), instance.problem)\n",
    "    res3.append(burned)\n",
    "\n",
    "print(\"neighbourMutator\", statistics.fmean(res3))\n",
    "\n",
    "instance._mutator = mixedMutator\n",
    "\n",
    "res4 = []\n",
    "\n",
    "for i in range(N):\n",
    "    burned = instance._evaluator(fenotypeToGenotype(SGA(instance), instance.problem.graph.number_of_nodes()), instance.problem)\n",
    "    res4.append(burned)\n",
    "\n",
    "print(\"mixedMutator\", statistics.fmean(res4))\n"
   ]
  },
  {
   "cell_type": "code",
   "execution_count": null,
   "metadata": {},
   "outputs": [],
   "source": [
    "print(\"noMutator\", statistics.fmean(res1), \" \" ,min(res1))\n",
    "print(\"basicMutator\", statistics.fmean(res2),\" \" ,min(res2))\n",
    "print(\"neighbourMutator\", statistics.fmean(res3),\" \" ,min(res3))\n",
    "print(\"mixedMutator\", statistics.fmean(res4),\" \" ,min(res4))"
   ]
  },
  {
   "cell_type": "code",
   "execution_count": null,
   "metadata": {},
   "outputs": [],
   "source": [
    "instance._populationInitializer = basicPI\n",
    "\n",
    "res1 = []\n",
    "N=20\n",
    "\n",
    "for i in range(N):\n",
    "    burned = instance._evaluator(fenotypeToGenotype(SGA(instance), instance.problem.graph.number_of_nodes()), instance.problem)\n",
    "    res1.append(burned)\n",
    "\n",
    "\n",
    "instance._populationInitializer = randomVertAndPathPI\n",
    "\n",
    "res2 = []\n",
    "\n",
    "for i in range(N):\n",
    "    burned = instance._evaluator(fenotypeToGenotype(SGA(instance), instance.problem.graph.number_of_nodes()), instance.problem)\n",
    "    res2.append(burned)\n",
    "\n",
    "\n",
    "instance._populationInitializer = randomVertAndDistrictPI\n",
    "\n",
    "res3 = []\n",
    "\n",
    "for i in range(N):\n",
    "    burned = instance._evaluator(fenotypeToGenotype(SGA(instance), instance.problem.graph.number_of_nodes()), instance.problem)\n",
    "    res3.append(burned)\n"
   ]
  },
  {
   "cell_type": "code",
   "execution_count": null,
   "metadata": {},
   "outputs": [],
   "source": [
    "print(\"basicPI\", statistics.fmean(res1), \" \" ,min(res1))\n",
    "print(\"randomVertAndPathPI\", statistics.fmean(res2),\" \" ,min(res2))\n",
    "print(\"randomVertAndDistrictPI\", statistics.fmean(res3),\" \" ,min(res3))\n",
    "instance._populationInitializer = basicPI"
   ]
  },
  {
   "cell_type": "code",
   "execution_count": null,
   "metadata": {},
   "outputs": [],
   "source": [
    "instance._parentsSelector = basicParentsSelector\n",
    "\n",
    "res1 = []\n",
    "N=20\n",
    "\n",
    "for i in range(N):\n",
    "    burned = instance._evaluator(fenotypeToGenotype(SGA(instance), instance.problem.graph.number_of_nodes()), instance.problem)\n",
    "    res1.append(burned)\n",
    "\n",
    "instance._parentsSelector = rankingParentsSelector\n",
    "\n",
    "res2 = []\n",
    "\n",
    "for i in range(N):\n",
    "    burned = instance._evaluator(fenotypeToGenotype(SGA(instance), instance.problem.graph.number_of_nodes()), instance.problem)\n",
    "    res2.append(burned)"
   ]
  },
  {
   "cell_type": "code",
   "execution_count": null,
   "metadata": {},
   "outputs": [],
   "source": [
    "print(\"basicParentsSelector\", statistics.fmean(res1), \" \" ,min(res1))\n",
    "print(\"rankingParentsSelector\", statistics.fmean(res2),\" \" ,min(res2))"
   ]
  },
  {
   "cell_type": "code",
   "execution_count": null,
   "metadata": {},
   "outputs": [],
   "source": []
  }
 ],
 "metadata": {
  "kernelspec": {
   "display_name": "Python 3 (ipykernel)",
   "language": "python",
   "name": "python3"
  },
  "language_info": {
   "codemirror_mode": {
    "name": "ipython",
    "version": 3
   },
   "file_extension": ".py",
   "mimetype": "text/x-python",
   "name": "python",
   "nbconvert_exporter": "python",
   "pygments_lexer": "ipython3",
   "version": "3.10.12"
  }
 },
 "nbformat": 4,
 "nbformat_minor": 4
}
