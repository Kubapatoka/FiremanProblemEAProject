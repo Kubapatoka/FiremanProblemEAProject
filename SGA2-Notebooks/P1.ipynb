{
 "cells": [
  {
   "cell_type": "code",
   "execution_count": 1,
   "id": "2e5392ee-c22c-4b9a-9094-291c83a277ec",
   "metadata": {},
   "outputs": [],
   "source": [
    "%load_ext autoreload\n",
    "%autoreload 2\n",
    "\n",
    "import sys\n",
    "import os \n",
    "    \n",
    "if not getattr(sys, \"_src_path_added\", False):\n",
    "    src_path = os.path.abspath(os.path.join(os.getcwd(), \"..\"))\n",
    "    if src_path not in sys.path:\n",
    "        sys.path.insert(0, src_path)\n",
    "    sys._src_path_added = True "
   ]
  },
  {
   "cell_type": "code",
   "execution_count": 2,
   "id": "c910b2c5-6db2-43ac-9477-7dc1d88e20c8",
   "metadata": {},
   "outputs": [
    {
     "name": "stderr",
     "output_type": "stream",
     "text": [
      "/usr/lib/python3/dist-packages/scipy/__init__.py:146: UserWarning: A NumPy version >=1.17.3 and <1.25.0 is required for this version of SciPy (detected version 1.26.0\n",
      "  warnings.warn(f\"A NumPy version >={np_minversion} and <{np_maxversion}\"\n"
     ]
    }
   ],
   "source": [
    "from SGA2.SGA2 import *\n",
    "from SGA2.SGA2Parts import *\n",
    "from SGA2.SGA2Instance import *\n",
    "\n",
    "from ProblemDef2 import IncrementalFirefighterProblem\n",
    "#from Displayer import Displayer"
   ]
  },
  {
   "cell_type": "code",
   "execution_count": 3,
   "id": "352f3b05-ac60-4410-8a04-e25f04252948",
   "metadata": {},
   "outputs": [
    {
     "name": "stderr",
     "output_type": "stream",
     "text": [
      "/home/jakub/.local/lib/python3.10/site-packages/networkx/readwrite/json_graph/node_link.py:287: FutureWarning: \n",
      "The default value will be changed to `edges=\"edges\" in NetworkX 3.6.\n",
      "\n",
      "To make this warning go away, explicitly set the edges kwarg, e.g.:\n",
      "\n",
      "  nx.node_link_graph(data, edges=\"links\") to preserve current behavior, or\n",
      "  nx.node_link_graph(data, edges=\"edges\") for forward compatibility.\n",
      "  warnings.warn(\n"
     ]
    },
    {
     "ename": "TypeError",
     "evalue": "IncrementalFirefighterProblem.__init__() missing 1 required positional argument: 'num_teams_increment'",
     "output_type": "error",
     "traceback": [
      "\u001b[0;31m---------------------------------------------------------------------------\u001b[0m",
      "\u001b[0;31mTypeError\u001b[0m                                 Traceback (most recent call last)",
      "Cell \u001b[0;32mIn[3], line 1\u001b[0m\n\u001b[0;32m----> 1\u001b[0m instance \u001b[38;5;241m=\u001b[39m \u001b[43mSGA2Instance\u001b[49m\u001b[43m(\u001b[49m\u001b[38;5;124;43m\"\u001b[39;49m\u001b[38;5;124;43m../problems/p1.json\u001b[39;49m\u001b[38;5;124;43m\"\u001b[39;49m\u001b[43m,\u001b[49m\n\u001b[1;32m      2\u001b[0m \u001b[43m    \u001b[49m\u001b[43mpopulationInitializer\u001b[49m\u001b[38;5;241;43m=\u001b[39;49m\u001b[43m \u001b[49m\u001b[43mbasicPI\u001b[49m\u001b[43m,\u001b[49m\n\u001b[1;32m      3\u001b[0m \u001b[43m    \u001b[49m\u001b[43mpopulationSize\u001b[49m\u001b[43m \u001b[49m\u001b[38;5;241;43m=\u001b[39;49m\u001b[43m \u001b[49m\u001b[38;5;241;43m5\u001b[39;49m\u001b[43m,\u001b[49m\n\u001b[1;32m      4\u001b[0m \u001b[43m    \u001b[49m\u001b[43mgenerationsNumber\u001b[49m\u001b[43m \u001b[49m\u001b[38;5;241;43m=\u001b[39;49m\u001b[43m \u001b[49m\u001b[38;5;241;43m20\u001b[39;49m\u001b[43m,\u001b[49m\n\u001b[1;32m      5\u001b[0m \u001b[43m    \u001b[49m\u001b[43mparentsSelector\u001b[49m\u001b[43m \u001b[49m\u001b[38;5;241;43m=\u001b[39;49m\u001b[43m \u001b[49m\u001b[43mbasicParentsSelector\u001b[49m\u001b[43m,\u001b[49m\n\u001b[1;32m      6\u001b[0m \u001b[43m    \u001b[49m\u001b[43mcrossover\u001b[49m\u001b[43m \u001b[49m\u001b[38;5;241;43m=\u001b[39;49m\u001b[43m \u001b[49m\u001b[43mPMXCrossover\u001b[49m\u001b[43m,\u001b[49m\n\u001b[1;32m      7\u001b[0m \u001b[43m    \u001b[49m\u001b[43mmutationProb\u001b[49m\u001b[43m \u001b[49m\u001b[38;5;241;43m=\u001b[39;49m\u001b[43m \u001b[49m\u001b[38;5;241;43m0.5\u001b[39;49m\u001b[43m,\u001b[49m\n\u001b[1;32m      8\u001b[0m \u001b[43m    \u001b[49m\u001b[43mmutator\u001b[49m\u001b[43m \u001b[49m\u001b[38;5;241;43m=\u001b[39;49m\u001b[43m \u001b[49m\u001b[43mnoMutator\u001b[49m\u001b[43m,\u001b[49m\n\u001b[1;32m      9\u001b[0m \u001b[43m    \u001b[49m\u001b[43mevaluator\u001b[49m\u001b[43m \u001b[49m\u001b[38;5;241;43m=\u001b[39;49m\u001b[43m \u001b[49m\u001b[43mbasicEvaluator\u001b[49m\u001b[43m)\u001b[49m\n\u001b[1;32m     11\u001b[0m firemans \u001b[38;5;241m=\u001b[39mSGA2(instance)\n\u001b[1;32m     13\u001b[0m \u001b[38;5;66;03m#disp = Displayer()\u001b[39;00m\n\u001b[1;32m     14\u001b[0m \u001b[38;5;66;03m#instance.problem.visualize_fire(disp, firemans)\u001b[39;00m\n",
      "File \u001b[0;32m~/Desktop/StudiaMagisterskie/Semestr_I/AlgEwolucyjne/Projekt/FiremanProblemEAProject/SGA2/SGA2Instance.py:8\u001b[0m, in \u001b[0;36mSGA2Instance.__init__\u001b[0;34m(self, file_name, populationInitializer, populationSize, generationsNumber, parentsSelector, crossover, mutator, mutationProb, evaluator)\u001b[0m\n\u001b[1;32m      7\u001b[0m \u001b[38;5;28;01mdef\u001b[39;00m \u001b[38;5;21m__init__\u001b[39m(\u001b[38;5;28mself\u001b[39m, file_name, populationInitializer, populationSize, generationsNumber, parentsSelector, crossover, mutator, mutationProb, evaluator):\n\u001b[0;32m----> 8\u001b[0m     \u001b[38;5;28mself\u001b[39m\u001b[38;5;241m.\u001b[39mproblem: IncrementalFirefighterProblem \u001b[38;5;241m=\u001b[39m \u001b[43mIncrementalFirefighterProblem\u001b[49m\u001b[38;5;241;43m.\u001b[39;49m\u001b[43mload_from_file\u001b[49m\u001b[43m(\u001b[49m\u001b[43mfile_name\u001b[49m\u001b[43m)\u001b[49m\n\u001b[1;32m      9\u001b[0m     \u001b[38;5;28mself\u001b[39m\u001b[38;5;241m.\u001b[39m_populationInitializer \u001b[38;5;241m=\u001b[39m populationInitializer\n\u001b[1;32m     10\u001b[0m     \u001b[38;5;28mself\u001b[39m\u001b[38;5;241m.\u001b[39m_populationSize \u001b[38;5;241m=\u001b[39m populationSize\n",
      "File \u001b[0;32m~/Desktop/StudiaMagisterskie/Semestr_I/AlgEwolucyjne/Projekt/FiremanProblemEAProject/ProblemDef2.py:60\u001b[0m, in \u001b[0;36mIncrementalFirefighterProblem.load_from_file\u001b[0;34m(cls, file_path)\u001b[0m\n\u001b[1;32m     58\u001b[0m fire_starts \u001b[38;5;241m=\u001b[39m data[\u001b[38;5;124m\"\u001b[39m\u001b[38;5;124mfire_starts\u001b[39m\u001b[38;5;124m\"\u001b[39m]\n\u001b[1;32m     59\u001b[0m num_teams \u001b[38;5;241m=\u001b[39m data[\u001b[38;5;124m\"\u001b[39m\u001b[38;5;124mnum_teams\u001b[39m\u001b[38;5;124m\"\u001b[39m]\n\u001b[0;32m---> 60\u001b[0m \u001b[38;5;28;01mreturn\u001b[39;00m \u001b[38;5;28;43mcls\u001b[39;49m\u001b[43m(\u001b[49m\u001b[43mgraph\u001b[49m\u001b[43m,\u001b[49m\u001b[43m \u001b[49m\u001b[43mfire_starts\u001b[49m\u001b[43m,\u001b[49m\u001b[43m \u001b[49m\u001b[43mnum_teams\u001b[49m\u001b[43m)\u001b[49m\n",
      "\u001b[0;31mTypeError\u001b[0m: IncrementalFirefighterProblem.__init__() missing 1 required positional argument: 'num_teams_increment'"
     ]
    }
   ],
   "source": [
    "instance = SGA2Instance(\"../problems/p1.json\",\n",
    "    populationInitializer= basicPI,\n",
    "    populationSize = 5,\n",
    "    generationsNumber = 20,\n",
    "    parentsSelector = basicParentsSelector,\n",
    "    crossover = PMXCrossover,\n",
    "    mutationProb = 0.5,\n",
    "    mutator = noMutator,\n",
    "    evaluator = basicEvaluator)\n",
    "\n",
    "firemans =SGA2(instance)\n",
    "\n",
    "#disp = Displayer()\n",
    "#instance.problem.visualize_fire(disp, firemans)"
   ]
  },
  {
   "cell_type": "code",
   "execution_count": null,
   "id": "4714e6cb-4e57-49ad-9610-3d95a9923d27",
   "metadata": {},
   "outputs": [],
   "source": []
  }
 ],
 "metadata": {
  "kernelspec": {
   "display_name": "Python 3 (ipykernel)",
   "language": "python",
   "name": "python3"
  },
  "language_info": {
   "codemirror_mode": {
    "name": "ipython",
    "version": 3
   },
   "file_extension": ".py",
   "mimetype": "text/x-python",
   "name": "python",
   "nbconvert_exporter": "python",
   "pygments_lexer": "ipython3",
   "version": "3.10.12"
  }
 },
 "nbformat": 4,
 "nbformat_minor": 5
}
