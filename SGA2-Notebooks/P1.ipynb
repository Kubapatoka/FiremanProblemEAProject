{
 "cells": [
  {
   "cell_type": "code",
   "execution_count": 16,
   "id": "2e5392ee-c22c-4b9a-9094-291c83a277ec",
   "metadata": {},
   "outputs": [
    {
     "name": "stdout",
     "output_type": "stream",
     "text": [
      "The autoreload extension is already loaded. To reload it, use:\n",
      "  %reload_ext autoreload\n"
     ]
    }
   ],
   "source": [
    "%load_ext autoreload\n",
    "%autoreload 2\n",
    "\n",
    "import sys\n",
    "import os \n",
    "    \n",
    "if not getattr(sys, \"_src_path_added\", False):\n",
    "    src_path = os.path.abspath(os.path.join(os.getcwd(), \"..\"))\n",
    "    if src_path not in sys.path:\n",
    "        sys.path.insert(0, src_path)\n",
    "    sys._src_path_added = True "
   ]
  },
  {
   "cell_type": "code",
   "execution_count": 17,
   "id": "c910b2c5-6db2-43ac-9477-7dc1d88e20c8",
   "metadata": {},
   "outputs": [],
   "source": [
    "from SGA2.SGA2 import *\n",
    "from SGA2.SGA2Parts import *\n",
    "from SGA2.SGA2Instance import *\n",
    "\n",
    "from ProblemDef2 import IncrementalFirefighterProblem\n",
    "#from Displayer import Displayer"
   ]
  },
  {
   "cell_type": "code",
   "execution_count": 18,
   "id": "352f3b05-ac60-4410-8a04-e25f04252948",
   "metadata": {},
   "outputs": [
    {
     "name": "stdout",
     "output_type": "stream",
     "text": [
      "0\n",
      "[2 3 9 6 5 1 0 7 4 8]\n"
     ]
    }
   ],
   "source": [
    "instance = SGA2Instance(\"../problems/p1.json\",\n",
    "    populationInitializer= basicPI,\n",
    "    populationSize = 5,\n",
    "    generationsNumber = 20,\n",
    "    parentsSelector = basicParentsSelector,\n",
    "    crossover = PMXCrossover,\n",
    "    mutationProb = 0.5,\n",
    "    mutator = noMutator,\n",
    "    evaluator = basicEvaluator)\n",
    "\n",
    "firemans =SGA2(instance)\n",
    "\n",
    "#disp = Displayer()\n",
    "#instance.problem.visualize_fire(disp, firemans)"
   ]
  },
  {
   "cell_type": "code",
   "execution_count": null,
   "id": "4714e6cb-4e57-49ad-9610-3d95a9923d27",
   "metadata": {},
   "outputs": [],
   "source": []
  }
 ],
 "metadata": {
  "kernelspec": {
   "display_name": "Python 3 (ipykernel)",
   "language": "python",
   "name": "python3"
  },
  "language_info": {
   "codemirror_mode": {
    "name": "ipython",
    "version": 3
   },
   "file_extension": ".py",
   "mimetype": "text/x-python",
   "name": "python",
   "nbconvert_exporter": "python",
   "pygments_lexer": "ipython3",
   "version": "3.10.12"
  }
 },
 "nbformat": 4,
 "nbformat_minor": 5
}
